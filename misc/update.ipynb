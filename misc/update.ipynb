{
 "metadata": {
  "language_info": {
   "codemirror_mode": {
    "name": "ipython",
    "version": 3
   },
   "file_extension": ".py",
   "mimetype": "text/x-python",
   "name": "python",
   "nbconvert_exporter": "python",
   "pygments_lexer": "ipython3",
   "version": "3.8.2"
  },
  "orig_nbformat": 2,
  "kernelspec": {
   "name": "python382jvsc74a57bd031f2aee4e71d21fbe5cf8b01ff0e069b9275f58929596ceb00d14d90e3e16cd6",
   "display_name": "Python 3.8.2 64-bit"
  },
  "metadata": {
   "interpreter": {
    "hash": "31f2aee4e71d21fbe5cf8b01ff0e069b9275f58929596ceb00d14d90e3e16cd6"
   }
  }
 },
 "nbformat": 4,
 "nbformat_minor": 2,
 "cells": [
  {
   "cell_type": "code",
   "execution_count": 1,
   "metadata": {},
   "outputs": [],
   "source": [
    "#預處理\n",
    "import bs4 #網頁爬蟲常用套件，透過標籤取html檔案的資料\n",
    "import requests #透過網址取得線上檔案，此處利用之取得網頁的html原始碼\n",
    "import datetime as date #內建日期與時間的類別，格式化時間用\n",
    "import json #自json讀取為dict，或將dict儲存為json"
   ]
  },
  {
   "cell_type": "code",
   "execution_count": 2,
   "metadata": {},
   "outputs": [],
   "source": [
    "#時間格式化的函數，回傳格式化後的時間字串\n",
    "def calTime(timeformat: str, cool3c_link=\"\")-> str:\n",
    "    \"\"\"\n",
    "    timeformat: 傳入來自technews.com的時間原始資料，若資料來自cool3c.com，則自串留空\n",
    "    cool3c_link: 由於cool3c.com的文章發布確切時間得進入文章本身的網頁才可取得，而無法直接於目錄索引頁找到，故透過此參數傳入該文章的網址，若文章來自technews.com則不會用到此參數（預設為空字串）\n",
    "    \"\"\"\n",
    "    currentTime = date.datetime.now()\n",
    "    if cool3c_link != \"\": #透過連結處理cool3c.com之文章發布時間\n",
    "        req = requests.get(cool3c_link) #取得文章網頁之html原始碼\n",
    "        soup = bs4.BeautifulSoup(req.text,\"html.parser\") #將原始碼讀入為BeautifulSoup物件，方便取資料\n",
    "        #取得的網頁原始碼（節錄）\n",
    "        \"\"\"\n",
    "        上略\n",
    "        <span class=\"icon\">\n",
    "            <i class=\"fas fa-bars\"></i>\n",
    "        </span>\n",
    "        <span>硬科技：HotChips 32的新牙膏 IBM Power10與z15篇</span>\n",
    "        <span class=\"prefix\">by</span>\n",
    "        <span class=\"icon\">\n",
    "            <i class=\"far fa-clock\"></i>\n",
    "        </span>\n",
    "        <span class=\"\">2020.09.23 12:01PM</span>\n",
    "        <span class=\"icon\">\n",
    "            <i class=\"fab fa-line\"></i>\n",
    "        </span>\n",
    "        下略\n",
    "        \"\"\"\n",
    "        d = soup.select(\"span\")[4]#由節錄可知時間資訊位於網頁的span標籤中的[4]的位置（第五項），故取之\n",
    "        timeformat = d.text #讀取時間標籤內呈現的文字\n",
    "        #原始字串：2020.09.23 12:01PM\n",
    "        formatted = timeformat.replace(\" \", \".\").split(\".\") #格式化時間資訊字串，方便統一轉為datetime.datetime物件\n",
    "        #處理為：[\"2020\",\"09\",\"23\",\"12:01PM\"]\n",
    "        articleTime = date.datetime(int(formatted[0]), int(formatted[1]), int(formatted[2])) #轉換成datetime.datetime物件，僅保留年月日資訊\n",
    "        return str(articleTime).split()[0] #回傳格式後的字串\n",
    "    else: #透過目錄頁即可取得的時間資料處理來自technews.com的文章之發布時間\n",
    "        #原始字串：2020 年 08 月 25 日 8:30\n",
    "        formatted = timeformat.replace(\" \", \"\").replace(\"年\", \" \").replace(\"月\", \" \").replace(\"日\", \" \").split()#格式化時間資訊字串，方便統一轉為datetime.datetime物件\n",
    "        #處理為：[\"2020\",\"08\",\"25\",\"8:30\"]\n",
    "        articleTime = date.datetime(int(formatted[0]), int(formatted[1]), int(formatted[2]))#轉換成datetime.datetime物件，僅保留年月日資訊\n",
    "        return str(articleTime).split()[0] #回傳格式後的字串"
   ]
  },
  {
   "source": [
    "以dict格式化要儲存的資料形式"
   ],
   "cell_type": "markdown",
   "metadata": {}
  },
  {
   "cell_type": "code",
   "execution_count": null,
   "metadata": {},
   "outputs": [],
   "source": [
    "articles = {\n",
    "        \"update\": str(date.datetime.now()), #上次更新時間\n",
    "        \"untagged_count\": 0, #未有標籤的文章數目\n",
    "        \"count\" : 0, #總文章數目\n",
    "        \"cool3c\":[], #來自cool3c.com的文章資訊儲存處\n",
    "        \"technews\": [] #來自technews.com的文章資訊儲存處\n",
    "}\n",
    "content_count = 0 #暫存文章累積數量\n",
    "content = [] #各文章的內容摘要，因為資料是來自目次頁，故以list儲存\n",
    "title = [] #各文章的標題\n",
    "time = [] #各文章的發布時間\n",
    "tags = [] #各文章的主題標籤"
   ]
  },
  {
   "source": [
    "print(\"Loading...\", end=\"\",flush=True)#表示要開始取資料了"
   ],
   "cell_type": "code",
   "metadata": {},
   "execution_count": null,
   "outputs": []
  },
  {
   "source": [
    "取technews.com的資料，一頁最多15項"
   ],
   "cell_type": "markdown",
   "metadata": {}
  },
  {
   "cell_type": "code",
   "execution_count": null,
   "metadata": {},
   "outputs": [],
   "source": [
    "req = requests.get(\"https://technews.tw/author/handymantw/\")#先取第一頁，因為其網址最不同\n",
    "soup = bs4.BeautifulSoup(req.text, \"html.parser\")#將原始碼讀入為BeautifulSoup物件，方便取資料\n",
    "title = soup.select(\"h1.entry-title a\")#取各文章標題\n",
    "content = soup.select(\"div.moreinf\")#取個文章內容摘錄\n",
    "time = soup.select(\"span.body\")[1::4]#取個文章發布時間資訊（在span.body裡面的[1]項，而後每四項出現一次）\n",
    "tags = soup.select(\"span.body\")[2::4]#取個文章的主題標籤（在span.body裡面的[2]項，而後每四項出現一次）\n",
    "for i in range(len(title)): #逐篇儲存資訊\n",
    "    print(\".\",end = \"\", flush=True)#視覺效果\n",
    "    articles[\"technews\"].append({#存入資料\n",
    "        \"title\": title[i].text,#存文章標題\n",
    "        \"link\": title[i][\"href\"],#存文章連結\n",
    "        \"content\" : content[i].text[:-10].replace(\"&rdquo;\", \" \").replace(\"&ldquo;\",\" \")+\"...\", #存內容摘錄\n",
    "        \"time\" : calTime(time[i].text), #存時間資訊，透過先前的函數格式化\n",
    "        \"tags\" : list(set(tags[i].text.replace(\"\\t\",\"\").replace(\"\\n\",\"\").replace(\"\\r\",\"\").replace(\" \",\"\").split(\",\")))# 存主題標籤\n",
    "    })\n",
    "    content_count+=1 #文章數目增加"
   ]
  },
  {
   "cell_type": "code",
   "execution_count": null,
   "metadata": {},
   "outputs": [],
   "source": [
    "for j in range(2,100): #取目錄中其他頁的資訊\n",
    "    req = requests.get(\"https://technews.tw/author/handymantw/page/\"+str(j)+\"/\")\n",
    "    soup = bs4.BeautifulSoup(req.text,\"html.parser\")\n",
    "    title = soup.select(\"h1.entry-title a\")\n",
    "    content = soup.select(\"div.moreinf\")\n",
    "    time = soup.select(\"span.body\")[1::4]\n",
    "    tags = soup.select(\"span.body\")[2::4]\n",
    "    for i in range(len(title)):\n",
    "        print(\".\",end = \"\", flush=True)\n",
    "        articles[\"technews\"].append({\n",
    "            \"title\": title[i].text,\n",
    "            \"link\": title[i][\"href\"],\n",
    "            \"content\" : content[i].text[:-10].replace(\"&rdquo;\", \" \").replace(\"&ldquo;\",\" \")+\"...\",\n",
    "            \"time\" : calTime(time[i].text),\n",
    "            \"tags\" : list(set(tags[i].text.replace(\"\\t\",\"\").replace(\"\\n\",\"\").replace(\"\\r\",\"\").replace(\" \",\"\").split(\",\")))\n",
    "        })\n",
    "        content_count+=1\n",
    "    if(len(soup.select(\"h1.entry-title a\")) < 15):#由於每頁最多15項，假若某一頁的項目不足15，則判斷已到達最後一頁\n",
    "        break"
   ]
  },
  {
   "source": [
    "取cool3.com的資料，一頁最多十項"
   ],
   "cell_type": "markdown",
   "metadata": {}
  },
  {
   "cell_type": "code",
   "execution_count": null,
   "metadata": {},
   "outputs": [],
   "source": [
    "#有些文章沒有主題標籤，故先窮舉出來，方便後續例外處理\n",
    "untagged = [\n",
    "    \"https://www.cool3c.com/article/159097\",\n",
    "    \"https://www.cool3c.com/article/156566\",\n",
    "    \"https://www.cool3c.com/article/156569\",\n",
    "    \"https://www.cool3c.com/article/156568\",\n",
    "    \"https://www.cool3c.com/article/156564\",\n",
    "    \"https://www.cool3c.com/article/156563\"\n",
    "]#因為採窮舉，後續若有出現新的未標籤文章，則需更動程式碼，缺乏彈性\n",
    "articles[\"untagged_count\"] = len(untagged)#記錄有多少未有主題標籤的文章"
   ]
  },
  {
   "cell_type": "code",
   "execution_count": null,
   "metadata": {},
   "outputs": [],
   "source": [
    "req = requests.get(\"https://www.cool3c.com/author/tiramisu\")#先取第一頁，因為其網址最不同\n",
    "soup = bs4.BeautifulSoup(req.text, \"html.parser\")#將原始碼讀入為BeautifulSoup物件，方便取資料\n",
    "title = soup.select(\"div.title a\")#取各文章標題\n",
    "content = soup.select(\"div.content a\")#取個文章內容摘錄\n",
    "tags = soup.select(\"ul.list-inline\")[3:]#取個文章的主題標籤（從ul.list-inline的[3]項開始）\n",
    "for i in range(len(title)):#逐篇儲存資訊\n",
    "    print(\".\",end = \"\", flush=True)#視覺效果\n",
    "    if title[i][\"href\"] in untagged:#無標籤的例外處理1\n",
    "        tags.insert(i, tags[0])#插入一項其他文章的標籤，避免後續文章取錯\n",
    "    articles[\"cool3c\"].append({#存入資料\n",
    "        \"title\": title[i].text,#存文章標題\n",
    "        \"link\": title[i][\"href\"],#存文章連結\n",
    "        \"content\" : content[i].text.replace(\"&rdquo;\", \" \").replace(\"&ldquo;\",\" \")+\"...\", #存內容摘錄\n",
    "        \"time\" : calTime(\"\",cool3c_link=title[i][\"href\"])#存時間資訊，透過先前的函數格式化\n",
    "    })\n",
    "    if title[i][\"href\"] in untagged:#無標籤的例外處理1\n",
    "        articles[\"cool3c\"][-1][\"tags\"] = []#若文章本身無標籤，則將 articles[\"cool3c\"][-1][\"tags\"]（最近插入的文章的「標籤」資料）設為空清單\n",
    "    else:\n",
    "        articles[\"cool3c\"][-1][\"tags\"] = list(set(tags[i].text.replace(\"\\n\\n\", \"\").split(\"\\n\")))#若文章有標籤，則格式化插入之\n",
    "    content_count+=1#文章數目增加"
   ]
  },
  {
   "cell_type": "code",
   "execution_count": null,
   "metadata": {},
   "outputs": [],
   "source": [
    "#取其他頁的資訊\n",
    "for j in range(1,100):\n",
    "    req = requests.get(\"https://www.cool3c.com/author/tiramisu/p\"+str(j))\n",
    "    soup = bs4.BeautifulSoup(req.text,\"html.parser\")\n",
    "    title = soup.select(\"div.title a\")\n",
    "    content = soup.select(\"div.content a\")\n",
    "    temp = [elm.text for elm in soup.select(\"ul.list-inline\")]\n",
    "    tags = soup.select(\"ul.list-inline\")[temp.index(\"\\n\\n\\n\\n\")+1:]\n",
    "    for i in range(len(title)):\n",
    "        if title[i][\"href\"] in untagged:\n",
    "            tags.insert(i, tags[0])\n",
    "        if title[i].text == \"訂閱硬科技電子報！\":#裡面有一則廢文，跳過之\n",
    "            continue\n",
    "        print(\".\",end = \"\", flush=True)\n",
    "        articles[\"cool3c\"].append({\n",
    "            \"title\": title[i].text, \n",
    "            \"link\": title[i][\"href\"], \n",
    "            \"content\" : content[i].text.replace(\"&rdquo;\", \" \").replace(\"&ldquo;\",\" \")+\"...\", \n",
    "            \"time\" : calTime(\"\",cool3c_link=title[i][\"href\"]),\n",
    "        })\n",
    "        if title[i][\"href\"] in untagged:\n",
    "            articles[\"cool3c\"][-1][\"tags\"] = []\n",
    "        else:\n",
    "            articles[\"cool3c\"][-1][\"tags\"] = list(set(tags[i].text.replace(\"\\n\\n\", \"\").split(\"\\n\")))\n",
    "        content_count+=1\n",
    "    if(len(soup.select(\"div.title a\")) < 10):#由於每頁最多10項，假若某一頁的項目不足10，則判斷已到達最後一頁\n",
    "        break"
   ]
  },
  {
   "source": [
    "輸出檔案"
   ],
   "cell_type": "markdown",
   "metadata": {}
  },
  {
   "cell_type": "code",
   "execution_count": null,
   "metadata": {},
   "outputs": [],
   "source": [
    "articles[\"count\"] = content_count#儲存文章總數目\n",
    "with open(\"waterball.json\", \"w\") as f:#開啟檔案寫成json\n",
    "    json.dump(articles,f,indent=2)\n",
    "    print(\"\\nsaved.\")"
   ]
  }
 ]
}